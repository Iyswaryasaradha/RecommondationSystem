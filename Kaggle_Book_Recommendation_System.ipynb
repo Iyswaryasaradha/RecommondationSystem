{
 "cells": [
  {
   "cell_type": "code",
   "execution_count": 2,
   "id": "d470fd71",
   "metadata": {},
   "outputs": [],
   "source": [
    "import pandas as pd\n",
    "import numpy as np\n",
    "import matplotlib\n",
    "import matplotlib.pyplot as plt\n",
    "import seaborn as sns\n",
    "%matplotlib inline"
   ]
  },
  {
   "cell_type": "markdown",
   "id": "570f9136",
   "metadata": {},
   "source": [
    "### Reading and Analyzing the datasets"
   ]
  },
  {
   "cell_type": "code",
   "execution_count": 3,
   "id": "22f98f67",
   "metadata": {},
   "outputs": [
    {
     "name": "stderr",
     "output_type": "stream",
     "text": [
      "C:\\Anacoda\\lib\\site-packages\\IPython\\core\\interactiveshell.py:3165: DtypeWarning: Columns (3) have mixed types.Specify dtype option on import or set low_memory=False.\n",
      "  has_raised = await self.run_ast_nodes(code_ast.body, cell_name,\n"
     ]
    }
   ],
   "source": [
    "Books = pd.read_csv('Books.csv', error_bad_lines = True)"
   ]
  },
  {
   "cell_type": "code",
   "execution_count": 4,
   "id": "1b1cdcae",
   "metadata": {},
   "outputs": [],
   "source": [
    "Ratings = pd.read_csv('Ratings.csv', error_bad_lines = True)"
   ]
  },
  {
   "cell_type": "code",
   "execution_count": 5,
   "id": "e10575ae",
   "metadata": {},
   "outputs": [],
   "source": [
    "Users = pd.read_csv('BX-Users.csv',sep=';', error_bad_lines = True)"
   ]
  },
  {
   "cell_type": "code",
   "execution_count": 6,
   "id": "4423cc3f",
   "metadata": {},
   "outputs": [
    {
     "name": "stdout",
     "output_type": "stream",
     "text": [
      "<class 'pandas.core.frame.DataFrame'>\n",
      "RangeIndex: 271360 entries, 0 to 271359\n",
      "Data columns (total 8 columns):\n",
      " #   Column               Non-Null Count   Dtype \n",
      "---  ------               --------------   ----- \n",
      " 0   ISBN                 271360 non-null  object\n",
      " 1   Book-Title           271360 non-null  object\n",
      " 2   Book-Author          271359 non-null  object\n",
      " 3   Year-Of-Publication  271360 non-null  object\n",
      " 4   Publisher            271358 non-null  object\n",
      " 5   Image-URL-S          271360 non-null  object\n",
      " 6   Image-URL-M          271360 non-null  object\n",
      " 7   Image-URL-L          271357 non-null  object\n",
      "dtypes: object(8)\n",
      "memory usage: 16.6+ MB\n"
     ]
    }
   ],
   "source": [
    "Books.info()"
   ]
  },
  {
   "cell_type": "code",
   "execution_count": 7,
   "id": "ed9ead88",
   "metadata": {},
   "outputs": [
    {
     "name": "stdout",
     "output_type": "stream",
     "text": [
      "<class 'pandas.core.frame.DataFrame'>\n",
      "RangeIndex: 278858 entries, 0 to 278857\n",
      "Data columns (total 3 columns):\n",
      " #   Column    Non-Null Count   Dtype  \n",
      "---  ------    --------------   -----  \n",
      " 0   User-ID   278858 non-null  int64  \n",
      " 1   Location  278858 non-null  object \n",
      " 2   Age       168096 non-null  float64\n",
      "dtypes: float64(1), int64(1), object(1)\n",
      "memory usage: 6.4+ MB\n"
     ]
    }
   ],
   "source": [
    "Users.info()"
   ]
  },
  {
   "cell_type": "code",
   "execution_count": 8,
   "id": "037c6224",
   "metadata": {},
   "outputs": [
    {
     "name": "stdout",
     "output_type": "stream",
     "text": [
      "<class 'pandas.core.frame.DataFrame'>\n",
      "RangeIndex: 1149780 entries, 0 to 1149779\n",
      "Data columns (total 3 columns):\n",
      " #   Column       Non-Null Count    Dtype \n",
      "---  ------       --------------    ----- \n",
      " 0   User-ID      1149780 non-null  int64 \n",
      " 1   ISBN         1149780 non-null  object\n",
      " 2   Book-Rating  1149780 non-null  int64 \n",
      "dtypes: int64(2), object(1)\n",
      "memory usage: 26.3+ MB\n"
     ]
    }
   ],
   "source": [
    "Ratings.info()"
   ]
  },
  {
   "cell_type": "code",
   "execution_count": 9,
   "id": "9d06a058",
   "metadata": {},
   "outputs": [
    {
     "name": "stderr",
     "output_type": "stream",
     "text": [
      "C:\\Anacoda\\lib\\site-packages\\seaborn\\_decorators.py:36: FutureWarning: Pass the following variable as a keyword arg: x. From version 0.12, the only valid positional argument will be `data`, and passing other arguments without an explicit keyword will result in an error or misinterpretation.\n",
      "  warnings.warn(\n"
     ]
    },
    {
     "data": {
      "text/plain": [
       "<AxesSubplot:xlabel='Book-Rating', ylabel='count'>"
      ]
     },
     "execution_count": 9,
     "metadata": {},
     "output_type": "execute_result"
    },
    {
     "data": {
      "image/png": "[encoded data removed]",
      "text/plain": [
       "<Figure size 432x288 with 1 Axes>"
      ]
     },
     "metadata": {},
     "output_type": "display_data"
    }
   ],
   "source": [
    "sns.set_theme(style='darkgrid')\n",
    "sns.countplot('Book-Rating', data = Ratings)"
   ]
  },
  {
   "cell_type": "code",
   "execution_count": 10,
   "id": "f27b8291",
   "metadata": {},
   "outputs": [
    {
     "data": {
      "text/html": [
       "<div>\n",
       "<style scoped>\n",
       "    .dataframe tbody tr th:only-of-type {\n",
       "        vertical-align: middle;\n",
       "    }\n",
       "\n",
       "    .dataframe tbody tr th {\n",
       "        vertical-align: top;\n",
       "    }\n",
       "\n",
       "    .dataframe thead th {\n",
       "        text-align: right;\n",
       "    }\n",
       "</style>\n",
       "<table border=\"1\" class=\"dataframe\">\n",
       "  <thead>\n",
       "    <tr style=\"text-align: right;\">\n",
       "      <th></th>\n",
       "      <th>User-ID</th>\n",
       "      <th>ISBN</th>\n",
       "      <th>Book-Rating</th>\n",
       "    </tr>\n",
       "  </thead>\n",
       "  <tbody>\n",
       "    <tr>\n",
       "      <th>1</th>\n",
       "      <td>276726</td>\n",
       "      <td>0155061224</td>\n",
       "      <td>5</td>\n",
       "    </tr>\n",
       "    <tr>\n",
       "      <th>4</th>\n",
       "      <td>276729</td>\n",
       "      <td>0521795028</td>\n",
       "      <td>6</td>\n",
       "    </tr>\n",
       "    <tr>\n",
       "      <th>6</th>\n",
       "      <td>276736</td>\n",
       "      <td>3257224281</td>\n",
       "      <td>8</td>\n",
       "    </tr>\n",
       "    <tr>\n",
       "      <th>7</th>\n",
       "      <td>276737</td>\n",
       "      <td>0600570967</td>\n",
       "      <td>6</td>\n",
       "    </tr>\n",
       "    <tr>\n",
       "      <th>8</th>\n",
       "      <td>276744</td>\n",
       "      <td>038550120X</td>\n",
       "      <td>7</td>\n",
       "    </tr>\n",
       "    <tr>\n",
       "      <th>...</th>\n",
       "      <td>...</td>\n",
       "      <td>...</td>\n",
       "      <td>...</td>\n",
       "    </tr>\n",
       "    <tr>\n",
       "      <th>1149773</th>\n",
       "      <td>276704</td>\n",
       "      <td>0806917695</td>\n",
       "      <td>5</td>\n",
       "    </tr>\n",
       "    <tr>\n",
       "      <th>1149775</th>\n",
       "      <td>276704</td>\n",
       "      <td>1563526298</td>\n",
       "      <td>9</td>\n",
       "    </tr>\n",
       "    <tr>\n",
       "      <th>1149777</th>\n",
       "      <td>276709</td>\n",
       "      <td>0515107662</td>\n",
       "      <td>10</td>\n",
       "    </tr>\n",
       "    <tr>\n",
       "      <th>1149778</th>\n",
       "      <td>276721</td>\n",
       "      <td>0590442449</td>\n",
       "      <td>10</td>\n",
       "    </tr>\n",
       "    <tr>\n",
       "      <th>1149779</th>\n",
       "      <td>276723</td>\n",
       "      <td>05162443314</td>\n",
       "      <td>8</td>\n",
       "    </tr>\n",
       "  </tbody>\n",
       "</table>\n",
       "<p>414242 rows × 3 columns</p>\n",
       "</div>"
      ],
      "text/plain": [
       "         User-ID         ISBN  Book-Rating\n",
       "1         276726   0155061224            5\n",
       "4         276729   0521795028            6\n",
       "6         276736   3257224281            8\n",
       "7         276737   0600570967            6\n",
       "8         276744   038550120X            7\n",
       "...          ...          ...          ...\n",
       "1149773   276704   0806917695            5\n",
       "1149775   276704   1563526298            9\n",
       "1149777   276709   0515107662           10\n",
       "1149778   276721   0590442449           10\n",
       "1149779   276723  05162443314            8\n",
       "\n",
       "[414242 rows x 3 columns]"
      ]
     },
     "execution_count": 10,
     "metadata": {},
     "output_type": "execute_result"
    }
   ],
   "source": [
    "Ratings[Ratings['Book-Rating']>=5]"
   ]
  },
  {
   "cell_type": "code",
   "execution_count": 11,
   "id": "319c8114",
   "metadata": {},
   "outputs": [
    {
     "data": {
      "text/plain": [
       "(1149780, 3)"
      ]
     },
     "execution_count": 11,
     "metadata": {},
     "output_type": "execute_result"
    }
   ],
   "source": [
    "Ratings.shape"
   ]
  },
  {
   "cell_type": "code",
   "execution_count": 12,
   "id": "b8b8d1a0",
   "metadata": {},
   "outputs": [],
   "source": [
    "Ratings = Ratings[Ratings['Book-Rating']>=5]"
   ]
  },
  {
   "cell_type": "code",
   "execution_count": 13,
   "id": "f632a1e5",
   "metadata": {},
   "outputs": [
    {
     "data": {
      "text/plain": [
       "(414242, 3)"
      ]
     },
     "execution_count": 13,
     "metadata": {},
     "output_type": "execute_result"
    }
   ],
   "source": [
    "Ratings.shape"
   ]
  },
  {
   "cell_type": "code",
   "execution_count": 14,
   "id": "74fd432b",
   "metadata": {},
   "outputs": [
    {
     "data": {
      "text/html": [
       "<div>\n",
       "<style scoped>\n",
       "    .dataframe tbody tr th:only-of-type {\n",
       "        vertical-align: middle;\n",
       "    }\n",
       "\n",
       "    .dataframe tbody tr th {\n",
       "        vertical-align: top;\n",
       "    }\n",
       "\n",
       "    .dataframe thead th {\n",
       "        text-align: right;\n",
       "    }\n",
       "</style>\n",
       "<table border=\"1\" class=\"dataframe\">\n",
       "  <thead>\n",
       "    <tr style=\"text-align: right;\">\n",
       "      <th></th>\n",
       "      <th>User-ID</th>\n",
       "      <th>ISBN</th>\n",
       "      <th>Book-Rating</th>\n",
       "    </tr>\n",
       "  </thead>\n",
       "  <tbody>\n",
       "    <tr>\n",
       "      <th>1</th>\n",
       "      <td>276726</td>\n",
       "      <td>0155061224</td>\n",
       "      <td>5</td>\n",
       "    </tr>\n",
       "    <tr>\n",
       "      <th>4</th>\n",
       "      <td>276729</td>\n",
       "      <td>0521795028</td>\n",
       "      <td>6</td>\n",
       "    </tr>\n",
       "    <tr>\n",
       "      <th>6</th>\n",
       "      <td>276736</td>\n",
       "      <td>3257224281</td>\n",
       "      <td>8</td>\n",
       "    </tr>\n",
       "    <tr>\n",
       "      <th>7</th>\n",
       "      <td>276737</td>\n",
       "      <td>0600570967</td>\n",
       "      <td>6</td>\n",
       "    </tr>\n",
       "    <tr>\n",
       "      <th>8</th>\n",
       "      <td>276744</td>\n",
       "      <td>038550120X</td>\n",
       "      <td>7</td>\n",
       "    </tr>\n",
       "  </tbody>\n",
       "</table>\n",
       "</div>"
      ],
      "text/plain": [
       "   User-ID        ISBN  Book-Rating\n",
       "1   276726  0155061224            5\n",
       "4   276729  0521795028            6\n",
       "6   276736  3257224281            8\n",
       "7   276737  0600570967            6\n",
       "8   276744  038550120X            7"
      ]
     },
     "execution_count": 14,
     "metadata": {},
     "output_type": "execute_result"
    }
   ],
   "source": [
    "Ratings.head()"
   ]
  },
  {
   "cell_type": "code",
   "execution_count": 15,
   "id": "d696a5dc",
   "metadata": {},
   "outputs": [
    {
     "data": {
      "text/plain": [
       "ISBN            User-ID\n",
       " 0330299891     181817     1\n",
       " 9022906116     11676      1\n",
       "#6612432        199864     1\n",
       "'9607092910'    261539     1\n",
       ")416195113      124304     1\n",
       "                          ..\n",
       "\\8888809228\\\"\"  275414     1\n",
       "\\9170010242\\\"\"  227945     1\n",
       "ooo7156103      266146     1\n",
       "´3499128624     86103      1\n",
       "Ô½crosoft       187517     1\n",
       "Name: User-ID, Length: 414242, dtype: int64"
      ]
     },
     "execution_count": 15,
     "metadata": {},
     "output_type": "execute_result"
    }
   ],
   "source": [
    "Ratings.groupby('ISBN')['User-ID'].value_counts()"
   ]
  },
  {
   "cell_type": "code",
   "execution_count": 16,
   "id": "6c0b95c8",
   "metadata": {},
   "outputs": [],
   "source": [
    "New_ratings = Ratings['User-ID'].value_counts()"
   ]
  },
  {
   "cell_type": "code",
   "execution_count": 17,
   "id": "befac999",
   "metadata": {},
   "outputs": [
    {
     "data": {
      "text/plain": [
       "(75117,)"
      ]
     },
     "execution_count": 17,
     "metadata": {},
     "output_type": "execute_result"
    }
   ],
   "source": [
    "New_ratings.shape"
   ]
  },
  {
   "cell_type": "code",
   "execution_count": 18,
   "id": "aca29b1b",
   "metadata": {},
   "outputs": [
    {
     "data": {
      "text/plain": [
       "Int64Index([ 11676,  98391, 153662, 189835,  23902, 171118, 235105,  76499,\n",
       "             16795,  56399,\n",
       "            ...\n",
       "              2276,  23768, 269566,  38023, 156467, 183995,  60707, 157247,\n",
       "            101209, 143175],\n",
       "           dtype='int64', length=138)"
      ]
     },
     "execution_count": 18,
     "metadata": {},
     "output_type": "execute_result"
    }
   ],
   "source": [
    "New_ratings[New_ratings>=200].index"
   ]
  },
  {
   "cell_type": "code",
   "execution_count": 19,
   "id": "0c3b33c5",
   "metadata": {},
   "outputs": [],
   "source": [
    "Ratings = Ratings[Ratings['User-ID'].isin(New_ratings[New_ratings>=200].index)]\n",
    "Count = Ratings['User-ID'].value_counts()"
   ]
  },
  {
   "cell_type": "code",
   "execution_count": 20,
   "id": "6d24c23c",
   "metadata": {},
   "outputs": [
    {
     "data": {
      "text/plain": [
       "8     15520\n",
       "10    14230\n",
       "9     12450\n",
       "7     10293\n",
       "5      9579\n",
       "6      4133\n",
       "Name: Book-Rating, dtype: int64"
      ]
     },
     "execution_count": 20,
     "metadata": {},
     "output_type": "execute_result"
    }
   ],
   "source": [
    "Ratings['Book-Rating'].value_counts()"
   ]
  },
  {
   "cell_type": "code",
   "execution_count": 21,
   "id": "69bd6f40",
   "metadata": {},
   "outputs": [],
   "source": [
    "Merge_book_Rating_table = pd.merge(Books,Ratings, on='ISBN')"
   ]
  },
  {
   "cell_type": "code",
   "execution_count": 22,
   "id": "b68ea274",
   "metadata": {},
   "outputs": [
    {
     "data": {
      "text/html": [
       "<div>\n",
       "<style scoped>\n",
       "    .dataframe tbody tr th:only-of-type {\n",
       "        vertical-align: middle;\n",
       "    }\n",
       "\n",
       "    .dataframe tbody tr th {\n",
       "        vertical-align: top;\n",
       "    }\n",
       "\n",
       "    .dataframe thead th {\n",
       "        text-align: right;\n",
       "    }\n",
       "</style>\n",
       "<table border=\"1\" class=\"dataframe\">\n",
       "  <thead>\n",
       "    <tr style=\"text-align: right;\">\n",
       "      <th></th>\n",
       "      <th>ISBN</th>\n",
       "      <th>Book-Title</th>\n",
       "      <th>Book-Author</th>\n",
       "      <th>Year-Of-Publication</th>\n",
       "      <th>Publisher</th>\n",
       "      <th>Image-URL-S</th>\n",
       "      <th>Image-URL-M</th>\n",
       "      <th>Image-URL-L</th>\n",
       "      <th>User-ID</th>\n",
       "      <th>Book-Rating</th>\n",
       "    </tr>\n",
       "  </thead>\n",
       "  <tbody>\n",
       "    <tr>\n",
       "      <th>0</th>\n",
       "      <td>0002005018</td>\n",
       "      <td>Clara Callan</td>\n",
       "      <td>Richard Bruce Wright</td>\n",
       "      <td>2001</td>\n",
       "      <td>HarperFlamingo Canada</td>\n",
       "      <td>http://images.amazon.com/images/P/0002005018.0...</td>\n",
       "      <td>http://images.amazon.com/images/P/0002005018.0...</td>\n",
       "      <td>http://images.amazon.com/images/P/0002005018.0...</td>\n",
       "      <td>11676</td>\n",
       "      <td>8</td>\n",
       "    </tr>\n",
       "    <tr>\n",
       "      <th>1</th>\n",
       "      <td>0374157065</td>\n",
       "      <td>Flu: The Story of the Great Influenza Pandemic...</td>\n",
       "      <td>Gina Bari Kolata</td>\n",
       "      <td>1999</td>\n",
       "      <td>Farrar Straus Giroux</td>\n",
       "      <td>http://images.amazon.com/images/P/0374157065.0...</td>\n",
       "      <td>http://images.amazon.com/images/P/0374157065.0...</td>\n",
       "      <td>http://images.amazon.com/images/P/0374157065.0...</td>\n",
       "      <td>197659</td>\n",
       "      <td>9</td>\n",
       "    </tr>\n",
       "    <tr>\n",
       "      <th>2</th>\n",
       "      <td>0399135782</td>\n",
       "      <td>The Kitchen God's Wife</td>\n",
       "      <td>Amy Tan</td>\n",
       "      <td>1991</td>\n",
       "      <td>Putnam Pub Group</td>\n",
       "      <td>http://images.amazon.com/images/P/0399135782.0...</td>\n",
       "      <td>http://images.amazon.com/images/P/0399135782.0...</td>\n",
       "      <td>http://images.amazon.com/images/P/0399135782.0...</td>\n",
       "      <td>11676</td>\n",
       "      <td>9</td>\n",
       "    </tr>\n",
       "    <tr>\n",
       "      <th>3</th>\n",
       "      <td>0399135782</td>\n",
       "      <td>The Kitchen God's Wife</td>\n",
       "      <td>Amy Tan</td>\n",
       "      <td>1991</td>\n",
       "      <td>Putnam Pub Group</td>\n",
       "      <td>http://images.amazon.com/images/P/0399135782.0...</td>\n",
       "      <td>http://images.amazon.com/images/P/0399135782.0...</td>\n",
       "      <td>http://images.amazon.com/images/P/0399135782.0...</td>\n",
       "      <td>46398</td>\n",
       "      <td>9</td>\n",
       "    </tr>\n",
       "    <tr>\n",
       "      <th>4</th>\n",
       "      <td>0399135782</td>\n",
       "      <td>The Kitchen God's Wife</td>\n",
       "      <td>Amy Tan</td>\n",
       "      <td>1991</td>\n",
       "      <td>Putnam Pub Group</td>\n",
       "      <td>http://images.amazon.com/images/P/0399135782.0...</td>\n",
       "      <td>http://images.amazon.com/images/P/0399135782.0...</td>\n",
       "      <td>http://images.amazon.com/images/P/0399135782.0...</td>\n",
       "      <td>230522</td>\n",
       "      <td>7</td>\n",
       "    </tr>\n",
       "  </tbody>\n",
       "</table>\n",
       "</div>"
      ],
      "text/plain": [
       "         ISBN                                         Book-Title  \\\n",
       "0  0002005018                                       Clara Callan   \n",
       "1  0374157065  Flu: The Story of the Great Influenza Pandemic...   \n",
       "2  0399135782                             The Kitchen God's Wife   \n",
       "3  0399135782                             The Kitchen God's Wife   \n",
       "4  0399135782                             The Kitchen God's Wife   \n",
       "\n",
       "            Book-Author Year-Of-Publication              Publisher  \\\n",
       "0  Richard Bruce Wright                2001  HarperFlamingo Canada   \n",
       "1      Gina Bari Kolata                1999   Farrar Straus Giroux   \n",
       "2               Amy Tan                1991       Putnam Pub Group   \n",
       "3               Amy Tan                1991       Putnam Pub Group   \n",
       "4               Amy Tan                1991       Putnam Pub Group   \n",
       "\n",
       "                                         Image-URL-S  \\\n",
       "0  http://images.amazon.com/images/P/0002005018.0...   \n",
       "1  http://images.amazon.com/images/P/0374157065.0...   \n",
       "2  http://images.amazon.com/images/P/0399135782.0...   \n",
       "3  http://images.amazon.com/images/P/0399135782.0...   \n",
       "4  http://images.amazon.com/images/P/0399135782.0...   \n",
       "\n",
       "                                         Image-URL-M  \\\n",
       "0  http://images.amazon.com/images/P/0002005018.0...   \n",
       "1  http://images.amazon.com/images/P/0374157065.0...   \n",
       "2  http://images.amazon.com/images/P/0399135782.0...   \n",
       "3  http://images.amazon.com/images/P/0399135782.0...   \n",
       "4  http://images.amazon.com/images/P/0399135782.0...   \n",
       "\n",
       "                                         Image-URL-L  User-ID  Book-Rating  \n",
       "0  http://images.amazon.com/images/P/0002005018.0...    11676            8  \n",
       "1  http://images.amazon.com/images/P/0374157065.0...   197659            9  \n",
       "2  http://images.amazon.com/images/P/0399135782.0...    11676            9  \n",
       "3  http://images.amazon.com/images/P/0399135782.0...    46398            9  \n",
       "4  http://images.amazon.com/images/P/0399135782.0...   230522            7  "
      ]
     },
     "execution_count": 22,
     "metadata": {},
     "output_type": "execute_result"
    }
   ],
   "source": [
    "Merge_book_Rating_table.head()"
   ]
  },
  {
   "cell_type": "code",
   "execution_count": 23,
   "id": "7cdf76dc",
   "metadata": {},
   "outputs": [
    {
     "name": "stdout",
     "output_type": "stream",
     "text": [
      "<class 'pandas.core.frame.DataFrame'>\n",
      "Int64Index: 59499 entries, 0 to 59498\n",
      "Data columns (total 10 columns):\n",
      " #   Column               Non-Null Count  Dtype \n",
      "---  ------               --------------  ----- \n",
      " 0   ISBN                 59499 non-null  object\n",
      " 1   Book-Title           59499 non-null  object\n",
      " 2   Book-Author          59499 non-null  object\n",
      " 3   Year-Of-Publication  59499 non-null  object\n",
      " 4   Publisher            59497 non-null  object\n",
      " 5   Image-URL-S          59499 non-null  object\n",
      " 6   Image-URL-M          59499 non-null  object\n",
      " 7   Image-URL-L          59499 non-null  object\n",
      " 8   User-ID              59499 non-null  int64 \n",
      " 9   Book-Rating          59499 non-null  int64 \n",
      "dtypes: int64(2), object(8)\n",
      "memory usage: 5.0+ MB\n"
     ]
    }
   ],
   "source": [
    "Merge_book_Rating_table.info()"
   ]
  },
  {
   "cell_type": "code",
   "execution_count": 24,
   "id": "4fb579e7",
   "metadata": {},
   "outputs": [
    {
     "data": {
      "text/plain": [
       "ISBN                   0\n",
       "Book-Title             0\n",
       "Book-Author            0\n",
       "Year-Of-Publication    0\n",
       "Publisher              2\n",
       "Image-URL-S            0\n",
       "Image-URL-M            0\n",
       "Image-URL-L            0\n",
       "User-ID                0\n",
       "Book-Rating            0\n",
       "dtype: int64"
      ]
     },
     "execution_count": 24,
     "metadata": {},
     "output_type": "execute_result"
    }
   ],
   "source": [
    "Merge_book_Rating_table.isnull().sum()"
   ]
  },
  {
   "cell_type": "code",
   "execution_count": 25,
   "id": "2ef2a0ce",
   "metadata": {},
   "outputs": [],
   "source": [
    "columns = ['Year-Of-Publication','Publisher','Image-URL-S','Image-URL-M','Image-URL-S']\n",
    "Merge_book_Rating_table = Merge_book_Rating_table.drop(columns, axis = 1)"
   ]
  },
  {
   "cell_type": "code",
   "execution_count": 26,
   "id": "1bd8affb",
   "metadata": {},
   "outputs": [
    {
     "data": {
      "text/html": [
       "<div>\n",
       "<style scoped>\n",
       "    .dataframe tbody tr th:only-of-type {\n",
       "        vertical-align: middle;\n",
       "    }\n",
       "\n",
       "    .dataframe tbody tr th {\n",
       "        vertical-align: top;\n",
       "    }\n",
       "\n",
       "    .dataframe thead th {\n",
       "        text-align: right;\n",
       "    }\n",
       "</style>\n",
       "<table border=\"1\" class=\"dataframe\">\n",
       "  <thead>\n",
       "    <tr style=\"text-align: right;\">\n",
       "      <th></th>\n",
       "      <th>ISBN</th>\n",
       "      <th>Book-Title</th>\n",
       "      <th>Book-Author</th>\n",
       "      <th>Image-URL-L</th>\n",
       "      <th>User-ID</th>\n",
       "      <th>Book-Rating</th>\n",
       "    </tr>\n",
       "  </thead>\n",
       "  <tbody>\n",
       "    <tr>\n",
       "      <th>0</th>\n",
       "      <td>0002005018</td>\n",
       "      <td>Clara Callan</td>\n",
       "      <td>Richard Bruce Wright</td>\n",
       "      <td>http://images.amazon.com/images/P/0002005018.0...</td>\n",
       "      <td>11676</td>\n",
       "      <td>8</td>\n",
       "    </tr>\n",
       "    <tr>\n",
       "      <th>1</th>\n",
       "      <td>0374157065</td>\n",
       "      <td>Flu: The Story of the Great Influenza Pandemic...</td>\n",
       "      <td>Gina Bari Kolata</td>\n",
       "      <td>http://images.amazon.com/images/P/0374157065.0...</td>\n",
       "      <td>197659</td>\n",
       "      <td>9</td>\n",
       "    </tr>\n",
       "    <tr>\n",
       "      <th>2</th>\n",
       "      <td>0399135782</td>\n",
       "      <td>The Kitchen God's Wife</td>\n",
       "      <td>Amy Tan</td>\n",
       "      <td>http://images.amazon.com/images/P/0399135782.0...</td>\n",
       "      <td>11676</td>\n",
       "      <td>9</td>\n",
       "    </tr>\n",
       "    <tr>\n",
       "      <th>3</th>\n",
       "      <td>0399135782</td>\n",
       "      <td>The Kitchen God's Wife</td>\n",
       "      <td>Amy Tan</td>\n",
       "      <td>http://images.amazon.com/images/P/0399135782.0...</td>\n",
       "      <td>46398</td>\n",
       "      <td>9</td>\n",
       "    </tr>\n",
       "    <tr>\n",
       "      <th>4</th>\n",
       "      <td>0399135782</td>\n",
       "      <td>The Kitchen God's Wife</td>\n",
       "      <td>Amy Tan</td>\n",
       "      <td>http://images.amazon.com/images/P/0399135782.0...</td>\n",
       "      <td>230522</td>\n",
       "      <td>7</td>\n",
       "    </tr>\n",
       "  </tbody>\n",
       "</table>\n",
       "</div>"
      ],
      "text/plain": [
       "         ISBN                                         Book-Title  \\\n",
       "0  0002005018                                       Clara Callan   \n",
       "1  0374157065  Flu: The Story of the Great Influenza Pandemic...   \n",
       "2  0399135782                             The Kitchen God's Wife   \n",
       "3  0399135782                             The Kitchen God's Wife   \n",
       "4  0399135782                             The Kitchen God's Wife   \n",
       "\n",
       "            Book-Author                                        Image-URL-L  \\\n",
       "0  Richard Bruce Wright  http://images.amazon.com/images/P/0002005018.0...   \n",
       "1      Gina Bari Kolata  http://images.amazon.com/images/P/0374157065.0...   \n",
       "2               Amy Tan  http://images.amazon.com/images/P/0399135782.0...   \n",
       "3               Amy Tan  http://images.amazon.com/images/P/0399135782.0...   \n",
       "4               Amy Tan  http://images.amazon.com/images/P/0399135782.0...   \n",
       "\n",
       "   User-ID  Book-Rating  \n",
       "0    11676            8  \n",
       "1   197659            9  \n",
       "2    11676            9  \n",
       "3    46398            9  \n",
       "4   230522            7  "
      ]
     },
     "execution_count": 26,
     "metadata": {},
     "output_type": "execute_result"
    }
   ],
   "source": [
    "Merge_book_Rating_table.head()"
   ]
  },
  {
   "cell_type": "code",
   "execution_count": 27,
   "id": "50111f63",
   "metadata": {},
   "outputs": [
    {
     "data": {
      "text/plain": [
       "(5, 6)"
      ]
     },
     "execution_count": 27,
     "metadata": {},
     "output_type": "execute_result"
    }
   ],
   "source": [
    "Merge_book_Rating_table.head().shape"
   ]
  },
  {
   "cell_type": "code",
   "execution_count": 28,
   "id": "b3eb667d",
   "metadata": {},
   "outputs": [
    {
     "data": {
      "text/html": [
       "<div>\n",
       "<style scoped>\n",
       "    .dataframe tbody tr th:only-of-type {\n",
       "        vertical-align: middle;\n",
       "    }\n",
       "\n",
       "    .dataframe tbody tr th {\n",
       "        vertical-align: top;\n",
       "    }\n",
       "\n",
       "    .dataframe thead th {\n",
       "        text-align: right;\n",
       "    }\n",
       "</style>\n",
       "<table border=\"1\" class=\"dataframe\">\n",
       "  <thead>\n",
       "    <tr style=\"text-align: right;\">\n",
       "      <th></th>\n",
       "      <th>Book-Title</th>\n",
       "      <th>Book-Rating</th>\n",
       "    </tr>\n",
       "  </thead>\n",
       "  <tbody>\n",
       "    <tr>\n",
       "      <th>0</th>\n",
       "      <td>Dark Justice</td>\n",
       "      <td>1</td>\n",
       "    </tr>\n",
       "    <tr>\n",
       "      <th>1</th>\n",
       "      <td>Final Fantasy Anthology: Official Strategy Gu...</td>\n",
       "      <td>1</td>\n",
       "    </tr>\n",
       "    <tr>\n",
       "      <th>2</th>\n",
       "      <td>Good Wives: Image and Reality in the Lives of...</td>\n",
       "      <td>1</td>\n",
       "    </tr>\n",
       "    <tr>\n",
       "      <th>3</th>\n",
       "      <td>Highland Desire (Zebra Splendor Historical Ro...</td>\n",
       "      <td>1</td>\n",
       "    </tr>\n",
       "    <tr>\n",
       "      <th>4</th>\n",
       "      <td>Murder of a Sleeping Beauty (Scumble River My...</td>\n",
       "      <td>2</td>\n",
       "    </tr>\n",
       "    <tr>\n",
       "      <th>...</th>\n",
       "      <td>...</td>\n",
       "      <td>...</td>\n",
       "    </tr>\n",
       "    <tr>\n",
       "      <th>42739</th>\n",
       "      <td>wet sand, raven tracks</td>\n",
       "      <td>1</td>\n",
       "    </tr>\n",
       "    <tr>\n",
       "      <th>42740</th>\n",
       "      <td>whataboutrick.com: a poetic tribute to Richard...</td>\n",
       "      <td>1</td>\n",
       "    </tr>\n",
       "    <tr>\n",
       "      <th>42741</th>\n",
       "      <td>Â¡Corre, perro, corre!</td>\n",
       "      <td>1</td>\n",
       "    </tr>\n",
       "    <tr>\n",
       "      <th>42742</th>\n",
       "      <td>Â¿Eres tu mi mamÃ¡?/Are You My Mother?</td>\n",
       "      <td>1</td>\n",
       "    </tr>\n",
       "    <tr>\n",
       "      <th>42743</th>\n",
       "      <td>Ã?Â?ber das Fernsehen.</td>\n",
       "      <td>1</td>\n",
       "    </tr>\n",
       "  </tbody>\n",
       "</table>\n",
       "<p>42744 rows × 2 columns</p>\n",
       "</div>"
      ],
      "text/plain": [
       "                                              Book-Title  Book-Rating\n",
       "0                                           Dark Justice            1\n",
       "1       Final Fantasy Anthology: Official Strategy Gu...            1\n",
       "2       Good Wives: Image and Reality in the Lives of...            1\n",
       "3       Highland Desire (Zebra Splendor Historical Ro...            1\n",
       "4       Murder of a Sleeping Beauty (Scumble River My...            2\n",
       "...                                                  ...          ...\n",
       "42739                             wet sand, raven tracks            1\n",
       "42740  whataboutrick.com: a poetic tribute to Richard...            1\n",
       "42741                             Â¡Corre, perro, corre!            1\n",
       "42742             Â¿Eres tu mi mamÃ¡?/Are You My Mother?            1\n",
       "42743                             Ã?Â?ber das Fernsehen.            1\n",
       "\n",
       "[42744 rows x 2 columns]"
      ]
     },
     "execution_count": 28,
     "metadata": {},
     "output_type": "execute_result"
    }
   ],
   "source": [
    "(Merge_book_Rating_table.groupby('Book-Title'))['Book-Rating'].count().reset_index()"
   ]
  },
  {
   "cell_type": "code",
   "execution_count": 29,
   "id": "ef669a5c",
   "metadata": {},
   "outputs": [],
   "source": [
    "Total_Rating = (Merge_book_Rating_table.\n",
    "                groupby('Book-Title')\n",
    "                ['Book-Rating'].count().reset_index().\n",
    "                rename(columns = {'Book-Rating':'Total_Ratings_count'})\n",
    "                [['Book-Title','Total_Ratings_count']]\n",
    "               )"
   ]
  },
  {
   "cell_type": "code",
   "execution_count": 30,
   "id": "624c8151",
   "metadata": {},
   "outputs": [
    {
     "data": {
      "text/html": [
       "<div>\n",
       "<style scoped>\n",
       "    .dataframe tbody tr th:only-of-type {\n",
       "        vertical-align: middle;\n",
       "    }\n",
       "\n",
       "    .dataframe tbody tr th {\n",
       "        vertical-align: top;\n",
       "    }\n",
       "\n",
       "    .dataframe thead th {\n",
       "        text-align: right;\n",
       "    }\n",
       "</style>\n",
       "<table border=\"1\" class=\"dataframe\">\n",
       "  <thead>\n",
       "    <tr style=\"text-align: right;\">\n",
       "      <th></th>\n",
       "      <th>Book-Title</th>\n",
       "      <th>Total_Ratings_count</th>\n",
       "    </tr>\n",
       "  </thead>\n",
       "  <tbody>\n",
       "    <tr>\n",
       "      <th>0</th>\n",
       "      <td>Dark Justice</td>\n",
       "      <td>1</td>\n",
       "    </tr>\n",
       "    <tr>\n",
       "      <th>1</th>\n",
       "      <td>Final Fantasy Anthology: Official Strategy Gu...</td>\n",
       "      <td>1</td>\n",
       "    </tr>\n",
       "    <tr>\n",
       "      <th>2</th>\n",
       "      <td>Good Wives: Image and Reality in the Lives of...</td>\n",
       "      <td>1</td>\n",
       "    </tr>\n",
       "    <tr>\n",
       "      <th>3</th>\n",
       "      <td>Highland Desire (Zebra Splendor Historical Ro...</td>\n",
       "      <td>1</td>\n",
       "    </tr>\n",
       "    <tr>\n",
       "      <th>4</th>\n",
       "      <td>Murder of a Sleeping Beauty (Scumble River My...</td>\n",
       "      <td>2</td>\n",
       "    </tr>\n",
       "  </tbody>\n",
       "</table>\n",
       "</div>"
      ],
      "text/plain": [
       "                                          Book-Title  Total_Ratings_count\n",
       "0                                       Dark Justice                    1\n",
       "1   Final Fantasy Anthology: Official Strategy Gu...                    1\n",
       "2   Good Wives: Image and Reality in the Lives of...                    1\n",
       "3   Highland Desire (Zebra Splendor Historical Ro...                    1\n",
       "4   Murder of a Sleeping Beauty (Scumble River My...                    2"
      ]
     },
     "execution_count": 30,
     "metadata": {},
     "output_type": "execute_result"
    }
   ],
   "source": [
    "\n",
    "Total_Rating.head()"
   ]
  },
  {
   "cell_type": "code",
   "execution_count": 31,
   "id": "21aea772",
   "metadata": {},
   "outputs": [
    {
     "data": {
      "text/html": [
       "<div>\n",
       "<style scoped>\n",
       "    .dataframe tbody tr th:only-of-type {\n",
       "        vertical-align: middle;\n",
       "    }\n",
       "\n",
       "    .dataframe tbody tr th {\n",
       "        vertical-align: top;\n",
       "    }\n",
       "\n",
       "    .dataframe thead th {\n",
       "        text-align: right;\n",
       "    }\n",
       "</style>\n",
       "<table border=\"1\" class=\"dataframe\">\n",
       "  <thead>\n",
       "    <tr style=\"text-align: right;\">\n",
       "      <th></th>\n",
       "      <th>ISBN</th>\n",
       "      <th>Book-Title</th>\n",
       "      <th>Book-Author</th>\n",
       "      <th>Image-URL-L</th>\n",
       "      <th>User-ID</th>\n",
       "      <th>Book-Rating</th>\n",
       "    </tr>\n",
       "  </thead>\n",
       "  <tbody>\n",
       "    <tr>\n",
       "      <th>0</th>\n",
       "      <td>0002005018</td>\n",
       "      <td>Clara Callan</td>\n",
       "      <td>Richard Bruce Wright</td>\n",
       "      <td>http://images.amazon.com/images/P/0002005018.0...</td>\n",
       "      <td>11676</td>\n",
       "      <td>8</td>\n",
       "    </tr>\n",
       "    <tr>\n",
       "      <th>1</th>\n",
       "      <td>0374157065</td>\n",
       "      <td>Flu: The Story of the Great Influenza Pandemic...</td>\n",
       "      <td>Gina Bari Kolata</td>\n",
       "      <td>http://images.amazon.com/images/P/0374157065.0...</td>\n",
       "      <td>197659</td>\n",
       "      <td>9</td>\n",
       "    </tr>\n",
       "    <tr>\n",
       "      <th>2</th>\n",
       "      <td>0399135782</td>\n",
       "      <td>The Kitchen God's Wife</td>\n",
       "      <td>Amy Tan</td>\n",
       "      <td>http://images.amazon.com/images/P/0399135782.0...</td>\n",
       "      <td>11676</td>\n",
       "      <td>9</td>\n",
       "    </tr>\n",
       "    <tr>\n",
       "      <th>3</th>\n",
       "      <td>0399135782</td>\n",
       "      <td>The Kitchen God's Wife</td>\n",
       "      <td>Amy Tan</td>\n",
       "      <td>http://images.amazon.com/images/P/0399135782.0...</td>\n",
       "      <td>46398</td>\n",
       "      <td>9</td>\n",
       "    </tr>\n",
       "    <tr>\n",
       "      <th>4</th>\n",
       "      <td>0399135782</td>\n",
       "      <td>The Kitchen God's Wife</td>\n",
       "      <td>Amy Tan</td>\n",
       "      <td>http://images.amazon.com/images/P/0399135782.0...</td>\n",
       "      <td>230522</td>\n",
       "      <td>7</td>\n",
       "    </tr>\n",
       "  </tbody>\n",
       "</table>\n",
       "</div>"
      ],
      "text/plain": [
       "         ISBN                                         Book-Title  \\\n",
       "0  0002005018                                       Clara Callan   \n",
       "1  0374157065  Flu: The Story of the Great Influenza Pandemic...   \n",
       "2  0399135782                             The Kitchen God's Wife   \n",
       "3  0399135782                             The Kitchen God's Wife   \n",
       "4  0399135782                             The Kitchen God's Wife   \n",
       "\n",
       "            Book-Author                                        Image-URL-L  \\\n",
       "0  Richard Bruce Wright  http://images.amazon.com/images/P/0002005018.0...   \n",
       "1      Gina Bari Kolata  http://images.amazon.com/images/P/0374157065.0...   \n",
       "2               Amy Tan  http://images.amazon.com/images/P/0399135782.0...   \n",
       "3               Amy Tan  http://images.amazon.com/images/P/0399135782.0...   \n",
       "4               Amy Tan  http://images.amazon.com/images/P/0399135782.0...   \n",
       "\n",
       "   User-ID  Book-Rating  \n",
       "0    11676            8  \n",
       "1   197659            9  \n",
       "2    11676            9  \n",
       "3    46398            9  \n",
       "4   230522            7  "
      ]
     },
     "execution_count": 31,
     "metadata": {},
     "output_type": "execute_result"
    }
   ],
   "source": [
    "Merge_book_Rating_table.head()"
   ]
  },
  {
   "cell_type": "code",
   "execution_count": 32,
   "id": "da8da3ac",
   "metadata": {},
   "outputs": [],
   "source": [
    "Final_data = Merge_book_Rating_table.merge(Total_Rating,left_on = 'Book-Title', right_on = 'Book-Title', how='left')"
   ]
  },
  {
   "cell_type": "code",
   "execution_count": 33,
   "id": "7b771098",
   "metadata": {},
   "outputs": [
    {
     "data": {
      "text/html": [
       "<div>\n",
       "<style scoped>\n",
       "    .dataframe tbody tr th:only-of-type {\n",
       "        vertical-align: middle;\n",
       "    }\n",
       "\n",
       "    .dataframe tbody tr th {\n",
       "        vertical-align: top;\n",
       "    }\n",
       "\n",
       "    .dataframe thead th {\n",
       "        text-align: right;\n",
       "    }\n",
       "</style>\n",
       "<table border=\"1\" class=\"dataframe\">\n",
       "  <thead>\n",
       "    <tr style=\"text-align: right;\">\n",
       "      <th></th>\n",
       "      <th>ISBN</th>\n",
       "      <th>Book-Title</th>\n",
       "      <th>Book-Author</th>\n",
       "      <th>Image-URL-L</th>\n",
       "      <th>User-ID</th>\n",
       "      <th>Book-Rating</th>\n",
       "      <th>Total_Ratings_count</th>\n",
       "    </tr>\n",
       "  </thead>\n",
       "  <tbody>\n",
       "    <tr>\n",
       "      <th>0</th>\n",
       "      <td>0002005018</td>\n",
       "      <td>Clara Callan</td>\n",
       "      <td>Richard Bruce Wright</td>\n",
       "      <td>http://images.amazon.com/images/P/0002005018.0...</td>\n",
       "      <td>11676</td>\n",
       "      <td>8</td>\n",
       "      <td>1</td>\n",
       "    </tr>\n",
       "    <tr>\n",
       "      <th>1</th>\n",
       "      <td>0374157065</td>\n",
       "      <td>Flu: The Story of the Great Influenza Pandemic...</td>\n",
       "      <td>Gina Bari Kolata</td>\n",
       "      <td>http://images.amazon.com/images/P/0374157065.0...</td>\n",
       "      <td>197659</td>\n",
       "      <td>9</td>\n",
       "      <td>1</td>\n",
       "    </tr>\n",
       "    <tr>\n",
       "      <th>2</th>\n",
       "      <td>0399135782</td>\n",
       "      <td>The Kitchen God's Wife</td>\n",
       "      <td>Amy Tan</td>\n",
       "      <td>http://images.amazon.com/images/P/0399135782.0...</td>\n",
       "      <td>11676</td>\n",
       "      <td>9</td>\n",
       "      <td>13</td>\n",
       "    </tr>\n",
       "    <tr>\n",
       "      <th>3</th>\n",
       "      <td>0399135782</td>\n",
       "      <td>The Kitchen God's Wife</td>\n",
       "      <td>Amy Tan</td>\n",
       "      <td>http://images.amazon.com/images/P/0399135782.0...</td>\n",
       "      <td>46398</td>\n",
       "      <td>9</td>\n",
       "      <td>13</td>\n",
       "    </tr>\n",
       "    <tr>\n",
       "      <th>4</th>\n",
       "      <td>0399135782</td>\n",
       "      <td>The Kitchen God's Wife</td>\n",
       "      <td>Amy Tan</td>\n",
       "      <td>http://images.amazon.com/images/P/0399135782.0...</td>\n",
       "      <td>230522</td>\n",
       "      <td>7</td>\n",
       "      <td>13</td>\n",
       "    </tr>\n",
       "  </tbody>\n",
       "</table>\n",
       "</div>"
      ],
      "text/plain": [
       "         ISBN                                         Book-Title  \\\n",
       "0  0002005018                                       Clara Callan   \n",
       "1  0374157065  Flu: The Story of the Great Influenza Pandemic...   \n",
       "2  0399135782                             The Kitchen God's Wife   \n",
       "3  0399135782                             The Kitchen God's Wife   \n",
       "4  0399135782                             The Kitchen God's Wife   \n",
       "\n",
       "            Book-Author                                        Image-URL-L  \\\n",
       "0  Richard Bruce Wright  http://images.amazon.com/images/P/0002005018.0...   \n",
       "1      Gina Bari Kolata  http://images.amazon.com/images/P/0374157065.0...   \n",
       "2               Amy Tan  http://images.amazon.com/images/P/0399135782.0...   \n",
       "3               Amy Tan  http://images.amazon.com/images/P/0399135782.0...   \n",
       "4               Amy Tan  http://images.amazon.com/images/P/0399135782.0...   \n",
       "\n",
       "   User-ID  Book-Rating  Total_Ratings_count  \n",
       "0    11676            8                    1  \n",
       "1   197659            9                    1  \n",
       "2    11676            9                   13  \n",
       "3    46398            9                   13  \n",
       "4   230522            7                   13  "
      ]
     },
     "execution_count": 33,
     "metadata": {},
     "output_type": "execute_result"
    }
   ],
   "source": [
    "Final_data.head()"
   ]
  },
  {
   "cell_type": "code",
   "execution_count": 34,
   "id": "6e30b1b2",
   "metadata": {},
   "outputs": [
    {
     "name": "stderr",
     "output_type": "stream",
     "text": [
      "C:\\Anacoda\\lib\\site-packages\\seaborn\\_decorators.py:36: FutureWarning: Pass the following variable as a keyword arg: x. From version 0.12, the only valid positional argument will be `data`, and passing other arguments without an explicit keyword will result in an error or misinterpretation.\n",
      "  warnings.warn(\n"
     ]
    },
    {
     "data": {
      "text/plain": [
       "<AxesSubplot:xlabel='Total_Ratings_count', ylabel='count'>"
      ]
     },
     "execution_count": 34,
     "metadata": {},
     "output_type": "execute_result"
    },
    {
     "data": {
      "image/png": "[encoded data removed]",
      "text/plain": [
       "<Figure size 432x288 with 1 Axes>"
      ]
     },
     "metadata": {},
     "output_type": "display_data"
    }
   ],
   "source": [
    "sns.countplot('Total_Ratings_count', data = Final_data)"
   ]
  },
  {
   "cell_type": "code",
   "execution_count": 35,
   "id": "368906ee",
   "metadata": {},
   "outputs": [
    {
     "data": {
      "text/plain": [
       "26"
      ]
     },
     "execution_count": 35,
     "metadata": {},
     "output_type": "execute_result"
    }
   ],
   "source": [
    "max(Final_data['Total_Ratings_count'])"
   ]
  },
  {
   "cell_type": "code",
   "execution_count": 36,
   "id": "21c44a4a",
   "metadata": {},
   "outputs": [
    {
     "data": {
      "text/plain": [
       "(59499, 7)"
      ]
     },
     "execution_count": 36,
     "metadata": {},
     "output_type": "execute_result"
    }
   ],
   "source": [
    "Final_data.shape"
   ]
  },
  {
   "cell_type": "code",
   "execution_count": 37,
   "id": "e350298f",
   "metadata": {},
   "outputs": [],
   "source": [
    "Final_data.drop_duplicates(['Book-Title','User-ID'], inplace = True)"
   ]
  },
  {
   "cell_type": "code",
   "execution_count": 38,
   "id": "7b830fca",
   "metadata": {},
   "outputs": [],
   "source": [
    "Pivot_data = Final_data.pivot(columns='User-ID',index=\"Book-Title\",values='Book-Rating')"
   ]
  },
  {
   "cell_type": "code",
   "execution_count": 39,
   "id": "e24cbbe4",
   "metadata": {},
   "outputs": [
    {
     "data": {
      "text/html": [
       "<div>\n",
       "<style scoped>\n",
       "    .dataframe tbody tr th:only-of-type {\n",
       "        vertical-align: middle;\n",
       "    }\n",
       "\n",
       "    .dataframe tbody tr th {\n",
       "        vertical-align: top;\n",
       "    }\n",
       "\n",
       "    .dataframe thead th {\n",
       "        text-align: right;\n",
       "    }\n",
       "</style>\n",
       "<table border=\"1\" class=\"dataframe\">\n",
       "  <thead>\n",
       "    <tr style=\"text-align: right;\">\n",
       "      <th>User-ID</th>\n",
       "      <th>2276</th>\n",
       "      <th>3757</th>\n",
       "      <th>4385</th>\n",
       "      <th>6242</th>\n",
       "      <th>6251</th>\n",
       "      <th>6575</th>\n",
       "      <th>7346</th>\n",
       "      <th>11676</th>\n",
       "      <th>13552</th>\n",
       "      <th>16634</th>\n",
       "      <th>...</th>\n",
       "      <th>254899</th>\n",
       "      <th>257204</th>\n",
       "      <th>258185</th>\n",
       "      <th>261829</th>\n",
       "      <th>262998</th>\n",
       "      <th>265115</th>\n",
       "      <th>265889</th>\n",
       "      <th>269566</th>\n",
       "      <th>270713</th>\n",
       "      <th>274061</th>\n",
       "    </tr>\n",
       "    <tr>\n",
       "      <th>Book-Title</th>\n",
       "      <th></th>\n",
       "      <th></th>\n",
       "      <th></th>\n",
       "      <th></th>\n",
       "      <th></th>\n",
       "      <th></th>\n",
       "      <th></th>\n",
       "      <th></th>\n",
       "      <th></th>\n",
       "      <th></th>\n",
       "      <th></th>\n",
       "      <th></th>\n",
       "      <th></th>\n",
       "      <th></th>\n",
       "      <th></th>\n",
       "      <th></th>\n",
       "      <th></th>\n",
       "      <th></th>\n",
       "      <th></th>\n",
       "      <th></th>\n",
       "      <th></th>\n",
       "    </tr>\n",
       "  </thead>\n",
       "  <tbody>\n",
       "    <tr>\n",
       "      <th>Dark Justice</th>\n",
       "      <td>NaN</td>\n",
       "      <td>NaN</td>\n",
       "      <td>NaN</td>\n",
       "      <td>NaN</td>\n",
       "      <td>NaN</td>\n",
       "      <td>NaN</td>\n",
       "      <td>NaN</td>\n",
       "      <td>NaN</td>\n",
       "      <td>NaN</td>\n",
       "      <td>NaN</td>\n",
       "      <td>...</td>\n",
       "      <td>NaN</td>\n",
       "      <td>NaN</td>\n",
       "      <td>NaN</td>\n",
       "      <td>NaN</td>\n",
       "      <td>NaN</td>\n",
       "      <td>NaN</td>\n",
       "      <td>NaN</td>\n",
       "      <td>NaN</td>\n",
       "      <td>NaN</td>\n",
       "      <td>NaN</td>\n",
       "    </tr>\n",
       "    <tr>\n",
       "      <th>Final Fantasy Anthology: Official Strategy Guide (Brady Games)</th>\n",
       "      <td>NaN</td>\n",
       "      <td>NaN</td>\n",
       "      <td>NaN</td>\n",
       "      <td>NaN</td>\n",
       "      <td>NaN</td>\n",
       "      <td>NaN</td>\n",
       "      <td>NaN</td>\n",
       "      <td>NaN</td>\n",
       "      <td>NaN</td>\n",
       "      <td>NaN</td>\n",
       "      <td>...</td>\n",
       "      <td>NaN</td>\n",
       "      <td>NaN</td>\n",
       "      <td>NaN</td>\n",
       "      <td>NaN</td>\n",
       "      <td>NaN</td>\n",
       "      <td>NaN</td>\n",
       "      <td>NaN</td>\n",
       "      <td>NaN</td>\n",
       "      <td>NaN</td>\n",
       "      <td>NaN</td>\n",
       "    </tr>\n",
       "    <tr>\n",
       "      <th>Good Wives: Image and Reality in the Lives of Women in Northern New England, 1650-1750</th>\n",
       "      <td>NaN</td>\n",
       "      <td>NaN</td>\n",
       "      <td>NaN</td>\n",
       "      <td>NaN</td>\n",
       "      <td>NaN</td>\n",
       "      <td>NaN</td>\n",
       "      <td>NaN</td>\n",
       "      <td>NaN</td>\n",
       "      <td>NaN</td>\n",
       "      <td>NaN</td>\n",
       "      <td>...</td>\n",
       "      <td>NaN</td>\n",
       "      <td>NaN</td>\n",
       "      <td>NaN</td>\n",
       "      <td>NaN</td>\n",
       "      <td>NaN</td>\n",
       "      <td>NaN</td>\n",
       "      <td>NaN</td>\n",
       "      <td>NaN</td>\n",
       "      <td>NaN</td>\n",
       "      <td>NaN</td>\n",
       "    </tr>\n",
       "    <tr>\n",
       "      <th>Highland Desire (Zebra Splendor Historical Romances)</th>\n",
       "      <td>NaN</td>\n",
       "      <td>NaN</td>\n",
       "      <td>NaN</td>\n",
       "      <td>NaN</td>\n",
       "      <td>NaN</td>\n",
       "      <td>NaN</td>\n",
       "      <td>NaN</td>\n",
       "      <td>NaN</td>\n",
       "      <td>NaN</td>\n",
       "      <td>NaN</td>\n",
       "      <td>...</td>\n",
       "      <td>NaN</td>\n",
       "      <td>NaN</td>\n",
       "      <td>NaN</td>\n",
       "      <td>NaN</td>\n",
       "      <td>NaN</td>\n",
       "      <td>NaN</td>\n",
       "      <td>NaN</td>\n",
       "      <td>NaN</td>\n",
       "      <td>NaN</td>\n",
       "      <td>NaN</td>\n",
       "    </tr>\n",
       "    <tr>\n",
       "      <th>Murder of a Sleeping Beauty (Scumble River Mysteries (Paperback))</th>\n",
       "      <td>NaN</td>\n",
       "      <td>NaN</td>\n",
       "      <td>NaN</td>\n",
       "      <td>NaN</td>\n",
       "      <td>NaN</td>\n",
       "      <td>NaN</td>\n",
       "      <td>NaN</td>\n",
       "      <td>NaN</td>\n",
       "      <td>NaN</td>\n",
       "      <td>NaN</td>\n",
       "      <td>...</td>\n",
       "      <td>NaN</td>\n",
       "      <td>NaN</td>\n",
       "      <td>NaN</td>\n",
       "      <td>NaN</td>\n",
       "      <td>NaN</td>\n",
       "      <td>NaN</td>\n",
       "      <td>NaN</td>\n",
       "      <td>NaN</td>\n",
       "      <td>NaN</td>\n",
       "      <td>NaN</td>\n",
       "    </tr>\n",
       "    <tr>\n",
       "      <th>...</th>\n",
       "      <td>...</td>\n",
       "      <td>...</td>\n",
       "      <td>...</td>\n",
       "      <td>...</td>\n",
       "      <td>...</td>\n",
       "      <td>...</td>\n",
       "      <td>...</td>\n",
       "      <td>...</td>\n",
       "      <td>...</td>\n",
       "      <td>...</td>\n",
       "      <td>...</td>\n",
       "      <td>...</td>\n",
       "      <td>...</td>\n",
       "      <td>...</td>\n",
       "      <td>...</td>\n",
       "      <td>...</td>\n",
       "      <td>...</td>\n",
       "      <td>...</td>\n",
       "      <td>...</td>\n",
       "      <td>...</td>\n",
       "      <td>...</td>\n",
       "    </tr>\n",
       "    <tr>\n",
       "      <th>wet sand, raven tracks</th>\n",
       "      <td>NaN</td>\n",
       "      <td>NaN</td>\n",
       "      <td>NaN</td>\n",
       "      <td>NaN</td>\n",
       "      <td>NaN</td>\n",
       "      <td>NaN</td>\n",
       "      <td>NaN</td>\n",
       "      <td>8.0</td>\n",
       "      <td>NaN</td>\n",
       "      <td>NaN</td>\n",
       "      <td>...</td>\n",
       "      <td>NaN</td>\n",
       "      <td>NaN</td>\n",
       "      <td>NaN</td>\n",
       "      <td>NaN</td>\n",
       "      <td>NaN</td>\n",
       "      <td>NaN</td>\n",
       "      <td>NaN</td>\n",
       "      <td>NaN</td>\n",
       "      <td>NaN</td>\n",
       "      <td>NaN</td>\n",
       "    </tr>\n",
       "    <tr>\n",
       "      <th>whataboutrick.com: a poetic tribute to Richard A. Ricci</th>\n",
       "      <td>NaN</td>\n",
       "      <td>NaN</td>\n",
       "      <td>NaN</td>\n",
       "      <td>NaN</td>\n",
       "      <td>NaN</td>\n",
       "      <td>NaN</td>\n",
       "      <td>NaN</td>\n",
       "      <td>5.0</td>\n",
       "      <td>NaN</td>\n",
       "      <td>NaN</td>\n",
       "      <td>...</td>\n",
       "      <td>NaN</td>\n",
       "      <td>NaN</td>\n",
       "      <td>NaN</td>\n",
       "      <td>NaN</td>\n",
       "      <td>NaN</td>\n",
       "      <td>NaN</td>\n",
       "      <td>NaN</td>\n",
       "      <td>NaN</td>\n",
       "      <td>NaN</td>\n",
       "      <td>NaN</td>\n",
       "    </tr>\n",
       "    <tr>\n",
       "      <th>Â¡Corre, perro, corre!</th>\n",
       "      <td>NaN</td>\n",
       "      <td>NaN</td>\n",
       "      <td>NaN</td>\n",
       "      <td>NaN</td>\n",
       "      <td>NaN</td>\n",
       "      <td>NaN</td>\n",
       "      <td>NaN</td>\n",
       "      <td>10.0</td>\n",
       "      <td>NaN</td>\n",
       "      <td>NaN</td>\n",
       "      <td>...</td>\n",
       "      <td>NaN</td>\n",
       "      <td>NaN</td>\n",
       "      <td>NaN</td>\n",
       "      <td>NaN</td>\n",
       "      <td>NaN</td>\n",
       "      <td>NaN</td>\n",
       "      <td>NaN</td>\n",
       "      <td>NaN</td>\n",
       "      <td>NaN</td>\n",
       "      <td>NaN</td>\n",
       "    </tr>\n",
       "    <tr>\n",
       "      <th>Â¿Eres tu mi mamÃ¡?/Are You My Mother?</th>\n",
       "      <td>NaN</td>\n",
       "      <td>NaN</td>\n",
       "      <td>NaN</td>\n",
       "      <td>NaN</td>\n",
       "      <td>NaN</td>\n",
       "      <td>NaN</td>\n",
       "      <td>NaN</td>\n",
       "      <td>NaN</td>\n",
       "      <td>NaN</td>\n",
       "      <td>NaN</td>\n",
       "      <td>...</td>\n",
       "      <td>NaN</td>\n",
       "      <td>NaN</td>\n",
       "      <td>NaN</td>\n",
       "      <td>NaN</td>\n",
       "      <td>NaN</td>\n",
       "      <td>NaN</td>\n",
       "      <td>NaN</td>\n",
       "      <td>NaN</td>\n",
       "      <td>NaN</td>\n",
       "      <td>NaN</td>\n",
       "    </tr>\n",
       "    <tr>\n",
       "      <th>Ã?Â?ber das Fernsehen.</th>\n",
       "      <td>NaN</td>\n",
       "      <td>NaN</td>\n",
       "      <td>NaN</td>\n",
       "      <td>NaN</td>\n",
       "      <td>NaN</td>\n",
       "      <td>NaN</td>\n",
       "      <td>NaN</td>\n",
       "      <td>8.0</td>\n",
       "      <td>NaN</td>\n",
       "      <td>NaN</td>\n",
       "      <td>...</td>\n",
       "      <td>NaN</td>\n",
       "      <td>NaN</td>\n",
       "      <td>NaN</td>\n",
       "      <td>NaN</td>\n",
       "      <td>NaN</td>\n",
       "      <td>NaN</td>\n",
       "      <td>NaN</td>\n",
       "      <td>NaN</td>\n",
       "      <td>NaN</td>\n",
       "      <td>NaN</td>\n",
       "    </tr>\n",
       "  </tbody>\n",
       "</table>\n",
       "<p>42744 rows × 138 columns</p>\n",
       "</div>"
      ],
      "text/plain": [
       "User-ID                                             2276    3757    4385    \\\n",
       "Book-Title                                                                   \n",
       " Dark Justice                                          NaN     NaN     NaN   \n",
       " Final Fantasy Anthology: Official Strategy Gui...     NaN     NaN     NaN   \n",
       " Good Wives: Image and Reality in the Lives of ...     NaN     NaN     NaN   \n",
       " Highland Desire (Zebra Splendor Historical Rom...     NaN     NaN     NaN   \n",
       " Murder of a Sleeping Beauty (Scumble River Mys...     NaN     NaN     NaN   \n",
       "...                                                    ...     ...     ...   \n",
       "wet sand, raven tracks                                 NaN     NaN     NaN   \n",
       "whataboutrick.com: a poetic tribute to Richard ...     NaN     NaN     NaN   \n",
       "Â¡Corre, perro, corre!                                 NaN     NaN     NaN   \n",
       "Â¿Eres tu mi mamÃ¡?/Are You My Mother?                 NaN     NaN     NaN   \n",
       "Ã?Â?ber das Fernsehen.                                 NaN     NaN     NaN   \n",
       "\n",
       "User-ID                                             6242    6251    6575    \\\n",
       "Book-Title                                                                   \n",
       " Dark Justice                                          NaN     NaN     NaN   \n",
       " Final Fantasy Anthology: Official Strategy Gui...     NaN     NaN     NaN   \n",
       " Good Wives: Image and Reality in the Lives of ...     NaN     NaN     NaN   \n",
       " Highland Desire (Zebra Splendor Historical Rom...     NaN     NaN     NaN   \n",
       " Murder of a Sleeping Beauty (Scumble River Mys...     NaN     NaN     NaN   \n",
       "...                                                    ...     ...     ...   \n",
       "wet sand, raven tracks                                 NaN     NaN     NaN   \n",
       "whataboutrick.com: a poetic tribute to Richard ...     NaN     NaN     NaN   \n",
       "Â¡Corre, perro, corre!                                 NaN     NaN     NaN   \n",
       "Â¿Eres tu mi mamÃ¡?/Are You My Mother?                 NaN     NaN     NaN   \n",
       "Ã?Â?ber das Fernsehen.                                 NaN     NaN     NaN   \n",
       "\n",
       "User-ID                                             7346    11676   13552   \\\n",
       "Book-Title                                                                   \n",
       " Dark Justice                                          NaN     NaN     NaN   \n",
       " Final Fantasy Anthology: Official Strategy Gui...     NaN     NaN     NaN   \n",
       " Good Wives: Image and Reality in the Lives of ...     NaN     NaN     NaN   \n",
       " Highland Desire (Zebra Splendor Historical Rom...     NaN     NaN     NaN   \n",
       " Murder of a Sleeping Beauty (Scumble River Mys...     NaN     NaN     NaN   \n",
       "...                                                    ...     ...     ...   \n",
       "wet sand, raven tracks                                 NaN     8.0     NaN   \n",
       "whataboutrick.com: a poetic tribute to Richard ...     NaN     5.0     NaN   \n",
       "Â¡Corre, perro, corre!                                 NaN    10.0     NaN   \n",
       "Â¿Eres tu mi mamÃ¡?/Are You My Mother?                 NaN     NaN     NaN   \n",
       "Ã?Â?ber das Fernsehen.                                 NaN     8.0     NaN   \n",
       "\n",
       "User-ID                                             16634   ...  254899  \\\n",
       "Book-Title                                                  ...           \n",
       " Dark Justice                                          NaN  ...     NaN   \n",
       " Final Fantasy Anthology: Official Strategy Gui...     NaN  ...     NaN   \n",
       " Good Wives: Image and Reality in the Lives of ...     NaN  ...     NaN   \n",
       " Highland Desire (Zebra Splendor Historical Rom...     NaN  ...     NaN   \n",
       " Murder of a Sleeping Beauty (Scumble River Mys...     NaN  ...     NaN   \n",
       "...                                                    ...  ...     ...   \n",
       "wet sand, raven tracks                                 NaN  ...     NaN   \n",
       "whataboutrick.com: a poetic tribute to Richard ...     NaN  ...     NaN   \n",
       "Â¡Corre, perro, corre!                                 NaN  ...     NaN   \n",
       "Â¿Eres tu mi mamÃ¡?/Are You My Mother?                 NaN  ...     NaN   \n",
       "Ã?Â?ber das Fernsehen.                                 NaN  ...     NaN   \n",
       "\n",
       "User-ID                                             257204  258185  261829  \\\n",
       "Book-Title                                                                   \n",
       " Dark Justice                                          NaN     NaN     NaN   \n",
       " Final Fantasy Anthology: Official Strategy Gui...     NaN     NaN     NaN   \n",
       " Good Wives: Image and Reality in the Lives of ...     NaN     NaN     NaN   \n",
       " Highland Desire (Zebra Splendor Historical Rom...     NaN     NaN     NaN   \n",
       " Murder of a Sleeping Beauty (Scumble River Mys...     NaN     NaN     NaN   \n",
       "...                                                    ...     ...     ...   \n",
       "wet sand, raven tracks                                 NaN     NaN     NaN   \n",
       "whataboutrick.com: a poetic tribute to Richard ...     NaN     NaN     NaN   \n",
       "Â¡Corre, perro, corre!                                 NaN     NaN     NaN   \n",
       "Â¿Eres tu mi mamÃ¡?/Are You My Mother?                 NaN     NaN     NaN   \n",
       "Ã?Â?ber das Fernsehen.                                 NaN     NaN     NaN   \n",
       "\n",
       "User-ID                                             262998  265115  265889  \\\n",
       "Book-Title                                                                   \n",
       " Dark Justice                                          NaN     NaN     NaN   \n",
       " Final Fantasy Anthology: Official Strategy Gui...     NaN     NaN     NaN   \n",
       " Good Wives: Image and Reality in the Lives of ...     NaN     NaN     NaN   \n",
       " Highland Desire (Zebra Splendor Historical Rom...     NaN     NaN     NaN   \n",
       " Murder of a Sleeping Beauty (Scumble River Mys...     NaN     NaN     NaN   \n",
       "...                                                    ...     ...     ...   \n",
       "wet sand, raven tracks                                 NaN     NaN     NaN   \n",
       "whataboutrick.com: a poetic tribute to Richard ...     NaN     NaN     NaN   \n",
       "Â¡Corre, perro, corre!                                 NaN     NaN     NaN   \n",
       "Â¿Eres tu mi mamÃ¡?/Are You My Mother?                 NaN     NaN     NaN   \n",
       "Ã?Â?ber das Fernsehen.                                 NaN     NaN     NaN   \n",
       "\n",
       "User-ID                                             269566  270713  274061  \n",
       "Book-Title                                                                  \n",
       " Dark Justice                                          NaN     NaN     NaN  \n",
       " Final Fantasy Anthology: Official Strategy Gui...     NaN     NaN     NaN  \n",
       " Good Wives: Image and Reality in the Lives of ...     NaN     NaN     NaN  \n",
       " Highland Desire (Zebra Splendor Historical Rom...     NaN     NaN     NaN  \n",
       " Murder of a Sleeping Beauty (Scumble River Mys...     NaN     NaN     NaN  \n",
       "...                                                    ...     ...     ...  \n",
       "wet sand, raven tracks                                 NaN     NaN     NaN  \n",
       "whataboutrick.com: a poetic tribute to Richard ...     NaN     NaN     NaN  \n",
       "Â¡Corre, perro, corre!                                 NaN     NaN     NaN  \n",
       "Â¿Eres tu mi mamÃ¡?/Are You My Mother?                 NaN     NaN     NaN  \n",
       "Ã?Â?ber das Fernsehen.                                 NaN     NaN     NaN  \n",
       "\n",
       "[42744 rows x 138 columns]"
      ]
     },
     "execution_count": 39,
     "metadata": {},
     "output_type": "execute_result"
    }
   ],
   "source": [
    "Pivot_data"
   ]
  },
  {
   "cell_type": "code",
   "execution_count": 40,
   "id": "4fb54107",
   "metadata": {},
   "outputs": [],
   "source": [
    "Pivot_data.fillna(0,inplace = True)"
   ]
  },
  {
   "cell_type": "code",
   "execution_count": 41,
   "id": "e60ecd30",
   "metadata": {},
   "outputs": [
    {
     "data": {
      "text/html": [
       "<div>\n",
       "<style scoped>\n",
       "    .dataframe tbody tr th:only-of-type {\n",
       "        vertical-align: middle;\n",
       "    }\n",
       "\n",
       "    .dataframe tbody tr th {\n",
       "        vertical-align: top;\n",
       "    }\n",
       "\n",
       "    .dataframe thead th {\n",
       "        text-align: right;\n",
       "    }\n",
       "</style>\n",
       "<table border=\"1\" class=\"dataframe\">\n",
       "  <thead>\n",
       "    <tr style=\"text-align: right;\">\n",
       "      <th>User-ID</th>\n",
       "      <th>2276</th>\n",
       "      <th>3757</th>\n",
       "      <th>4385</th>\n",
       "      <th>6242</th>\n",
       "      <th>6251</th>\n",
       "      <th>6575</th>\n",
       "      <th>7346</th>\n",
       "      <th>11676</th>\n",
       "      <th>13552</th>\n",
       "      <th>16634</th>\n",
       "      <th>...</th>\n",
       "      <th>254899</th>\n",
       "      <th>257204</th>\n",
       "      <th>258185</th>\n",
       "      <th>261829</th>\n",
       "      <th>262998</th>\n",
       "      <th>265115</th>\n",
       "      <th>265889</th>\n",
       "      <th>269566</th>\n",
       "      <th>270713</th>\n",
       "      <th>274061</th>\n",
       "    </tr>\n",
       "    <tr>\n",
       "      <th>Book-Title</th>\n",
       "      <th></th>\n",
       "      <th></th>\n",
       "      <th></th>\n",
       "      <th></th>\n",
       "      <th></th>\n",
       "      <th></th>\n",
       "      <th></th>\n",
       "      <th></th>\n",
       "      <th></th>\n",
       "      <th></th>\n",
       "      <th></th>\n",
       "      <th></th>\n",
       "      <th></th>\n",
       "      <th></th>\n",
       "      <th></th>\n",
       "      <th></th>\n",
       "      <th></th>\n",
       "      <th></th>\n",
       "      <th></th>\n",
       "      <th></th>\n",
       "      <th></th>\n",
       "    </tr>\n",
       "  </thead>\n",
       "  <tbody>\n",
       "    <tr>\n",
       "      <th>Dark Justice</th>\n",
       "      <td>0.0</td>\n",
       "      <td>0.0</td>\n",
       "      <td>0.0</td>\n",
       "      <td>0.0</td>\n",
       "      <td>0.0</td>\n",
       "      <td>0.0</td>\n",
       "      <td>0.0</td>\n",
       "      <td>0.0</td>\n",
       "      <td>0.0</td>\n",
       "      <td>0.0</td>\n",
       "      <td>...</td>\n",
       "      <td>0.0</td>\n",
       "      <td>0.0</td>\n",
       "      <td>0.0</td>\n",
       "      <td>0.0</td>\n",
       "      <td>0.0</td>\n",
       "      <td>0.0</td>\n",
       "      <td>0.0</td>\n",
       "      <td>0.0</td>\n",
       "      <td>0.0</td>\n",
       "      <td>0.0</td>\n",
       "    </tr>\n",
       "    <tr>\n",
       "      <th>Final Fantasy Anthology: Official Strategy Guide (Brady Games)</th>\n",
       "      <td>0.0</td>\n",
       "      <td>0.0</td>\n",
       "      <td>0.0</td>\n",
       "      <td>0.0</td>\n",
       "      <td>0.0</td>\n",
       "      <td>0.0</td>\n",
       "      <td>0.0</td>\n",
       "      <td>0.0</td>\n",
       "      <td>0.0</td>\n",
       "      <td>0.0</td>\n",
       "      <td>...</td>\n",
       "      <td>0.0</td>\n",
       "      <td>0.0</td>\n",
       "      <td>0.0</td>\n",
       "      <td>0.0</td>\n",
       "      <td>0.0</td>\n",
       "      <td>0.0</td>\n",
       "      <td>0.0</td>\n",
       "      <td>0.0</td>\n",
       "      <td>0.0</td>\n",
       "      <td>0.0</td>\n",
       "    </tr>\n",
       "    <tr>\n",
       "      <th>Good Wives: Image and Reality in the Lives of Women in Northern New England, 1650-1750</th>\n",
       "      <td>0.0</td>\n",
       "      <td>0.0</td>\n",
       "      <td>0.0</td>\n",
       "      <td>0.0</td>\n",
       "      <td>0.0</td>\n",
       "      <td>0.0</td>\n",
       "      <td>0.0</td>\n",
       "      <td>0.0</td>\n",
       "      <td>0.0</td>\n",
       "      <td>0.0</td>\n",
       "      <td>...</td>\n",
       "      <td>0.0</td>\n",
       "      <td>0.0</td>\n",
       "      <td>0.0</td>\n",
       "      <td>0.0</td>\n",
       "      <td>0.0</td>\n",
       "      <td>0.0</td>\n",
       "      <td>0.0</td>\n",
       "      <td>0.0</td>\n",
       "      <td>0.0</td>\n",
       "      <td>0.0</td>\n",
       "    </tr>\n",
       "    <tr>\n",
       "      <th>Highland Desire (Zebra Splendor Historical Romances)</th>\n",
       "      <td>0.0</td>\n",
       "      <td>0.0</td>\n",
       "      <td>0.0</td>\n",
       "      <td>0.0</td>\n",
       "      <td>0.0</td>\n",
       "      <td>0.0</td>\n",
       "      <td>0.0</td>\n",
       "      <td>0.0</td>\n",
       "      <td>0.0</td>\n",
       "      <td>0.0</td>\n",
       "      <td>...</td>\n",
       "      <td>0.0</td>\n",
       "      <td>0.0</td>\n",
       "      <td>0.0</td>\n",
       "      <td>0.0</td>\n",
       "      <td>0.0</td>\n",
       "      <td>0.0</td>\n",
       "      <td>0.0</td>\n",
       "      <td>0.0</td>\n",
       "      <td>0.0</td>\n",
       "      <td>0.0</td>\n",
       "    </tr>\n",
       "    <tr>\n",
       "      <th>Murder of a Sleeping Beauty (Scumble River Mysteries (Paperback))</th>\n",
       "      <td>0.0</td>\n",
       "      <td>0.0</td>\n",
       "      <td>0.0</td>\n",
       "      <td>0.0</td>\n",
       "      <td>0.0</td>\n",
       "      <td>0.0</td>\n",
       "      <td>0.0</td>\n",
       "      <td>0.0</td>\n",
       "      <td>0.0</td>\n",
       "      <td>0.0</td>\n",
       "      <td>...</td>\n",
       "      <td>0.0</td>\n",
       "      <td>0.0</td>\n",
       "      <td>0.0</td>\n",
       "      <td>0.0</td>\n",
       "      <td>0.0</td>\n",
       "      <td>0.0</td>\n",
       "      <td>0.0</td>\n",
       "      <td>0.0</td>\n",
       "      <td>0.0</td>\n",
       "      <td>0.0</td>\n",
       "    </tr>\n",
       "  </tbody>\n",
       "</table>\n",
       "<p>5 rows × 138 columns</p>\n",
       "</div>"
      ],
      "text/plain": [
       "User-ID                                             2276    3757    4385    \\\n",
       "Book-Title                                                                   \n",
       " Dark Justice                                          0.0     0.0     0.0   \n",
       " Final Fantasy Anthology: Official Strategy Gui...     0.0     0.0     0.0   \n",
       " Good Wives: Image and Reality in the Lives of ...     0.0     0.0     0.0   \n",
       " Highland Desire (Zebra Splendor Historical Rom...     0.0     0.0     0.0   \n",
       " Murder of a Sleeping Beauty (Scumble River Mys...     0.0     0.0     0.0   \n",
       "\n",
       "User-ID                                             6242    6251    6575    \\\n",
       "Book-Title                                                                   \n",
       " Dark Justice                                          0.0     0.0     0.0   \n",
       " Final Fantasy Anthology: Official Strategy Gui...     0.0     0.0     0.0   \n",
       " Good Wives: Image and Reality in the Lives of ...     0.0     0.0     0.0   \n",
       " Highland Desire (Zebra Splendor Historical Rom...     0.0     0.0     0.0   \n",
       " Murder of a Sleeping Beauty (Scumble River Mys...     0.0     0.0     0.0   \n",
       "\n",
       "User-ID                                             7346    11676   13552   \\\n",
       "Book-Title                                                                   \n",
       " Dark Justice                                          0.0     0.0     0.0   \n",
       " Final Fantasy Anthology: Official Strategy Gui...     0.0     0.0     0.0   \n",
       " Good Wives: Image and Reality in the Lives of ...     0.0     0.0     0.0   \n",
       " Highland Desire (Zebra Splendor Historical Rom...     0.0     0.0     0.0   \n",
       " Murder of a Sleeping Beauty (Scumble River Mys...     0.0     0.0     0.0   \n",
       "\n",
       "User-ID                                             16634   ...  254899  \\\n",
       "Book-Title                                                  ...           \n",
       " Dark Justice                                          0.0  ...     0.0   \n",
       " Final Fantasy Anthology: Official Strategy Gui...     0.0  ...     0.0   \n",
       " Good Wives: Image and Reality in the Lives of ...     0.0  ...     0.0   \n",
       " Highland Desire (Zebra Splendor Historical Rom...     0.0  ...     0.0   \n",
       " Murder of a Sleeping Beauty (Scumble River Mys...     0.0  ...     0.0   \n",
       "\n",
       "User-ID                                             257204  258185  261829  \\\n",
       "Book-Title                                                                   \n",
       " Dark Justice                                          0.0     0.0     0.0   \n",
       " Final Fantasy Anthology: Official Strategy Gui...     0.0     0.0     0.0   \n",
       " Good Wives: Image and Reality in the Lives of ...     0.0     0.0     0.0   \n",
       " Highland Desire (Zebra Splendor Historical Rom...     0.0     0.0     0.0   \n",
       " Murder of a Sleeping Beauty (Scumble River Mys...     0.0     0.0     0.0   \n",
       "\n",
       "User-ID                                             262998  265115  265889  \\\n",
       "Book-Title                                                                   \n",
       " Dark Justice                                          0.0     0.0     0.0   \n",
       " Final Fantasy Anthology: Official Strategy Gui...     0.0     0.0     0.0   \n",
       " Good Wives: Image and Reality in the Lives of ...     0.0     0.0     0.0   \n",
       " Highland Desire (Zebra Splendor Historical Rom...     0.0     0.0     0.0   \n",
       " Murder of a Sleeping Beauty (Scumble River Mys...     0.0     0.0     0.0   \n",
       "\n",
       "User-ID                                             269566  270713  274061  \n",
       "Book-Title                                                                  \n",
       " Dark Justice                                          0.0     0.0     0.0  \n",
       " Final Fantasy Anthology: Official Strategy Gui...     0.0     0.0     0.0  \n",
       " Good Wives: Image and Reality in the Lives of ...     0.0     0.0     0.0  \n",
       " Highland Desire (Zebra Splendor Historical Rom...     0.0     0.0     0.0  \n",
       " Murder of a Sleeping Beauty (Scumble River Mys...     0.0     0.0     0.0  \n",
       "\n",
       "[5 rows x 138 columns]"
      ]
     },
     "execution_count": 41,
     "metadata": {},
     "output_type": "execute_result"
    }
   ],
   "source": [
    "Pivot_data.head()"
   ]
  },
  {
   "cell_type": "code",
   "execution_count": 42,
   "id": "af1e00d9",
   "metadata": {},
   "outputs": [],
   "source": [
    "import scipy as sc\n",
    "from scipy.sparse import csc_matrix"
   ]
  },
  {
   "cell_type": "code",
   "execution_count": 43,
   "id": "45d15eb5",
   "metadata": {},
   "outputs": [],
   "source": [
    "book_sparse = csc_matrix(Pivot_data)"
   ]
  },
  {
   "cell_type": "code",
   "execution_count": 44,
   "id": "f3124f3d",
   "metadata": {},
   "outputs": [
    {
     "data": {
      "text/plain": [
       "<42744x138 sparse matrix of type '<class 'numpy.float64'>'\n",
       "\twith 58890 stored elements in Compressed Sparse Column format>"
      ]
     },
     "execution_count": 44,
     "metadata": {},
     "output_type": "execute_result"
    }
   ],
   "source": [
    "book_sparse"
   ]
  },
  {
   "cell_type": "code",
   "execution_count": 45,
   "id": "0f3d08a8",
   "metadata": {},
   "outputs": [],
   "source": [
    "from sklearn.neighbors import NearestNeighbors\n",
    "model = NearestNeighbors(algorithm = 'brute')"
   ]
  },
  {
   "cell_type": "code",
   "execution_count": 46,
   "id": "90dd3b2d",
   "metadata": {},
   "outputs": [
    {
     "data": {
      "text/plain": [
       "NearestNeighbors(algorithm='brute')"
      ]
     },
     "execution_count": 46,
     "metadata": {},
     "output_type": "execute_result"
    }
   ],
   "source": [
    "model.fit(book_sparse)"
   ]
  },
  {
   "cell_type": "code",
   "execution_count": 47,
   "id": "37c9ead5",
   "metadata": {},
   "outputs": [],
   "source": [
    "distance, suggestions = model.kneighbors(Pivot_data.iloc[20 , :].values.reshape(1,-1),n_neighbors = 10)"
   ]
  },
  {
   "cell_type": "code",
   "execution_count": 48,
   "id": "0b6cef1f",
   "metadata": {},
   "outputs": [
    {
     "data": {
      "text/plain": [
       "array([[0., 0., 0., 0., 0., 0., 0., 0., 0., 0.]])"
      ]
     },
     "execution_count": 48,
     "metadata": {},
     "output_type": "execute_result"
    }
   ],
   "source": [
    "distance"
   ]
  },
  {
   "cell_type": "code",
   "execution_count": 154,
   "id": "ce37877b",
   "metadata": {},
   "outputs": [
    {
     "data": {
      "text/plain": [
       "10"
      ]
     },
     "execution_count": 154,
     "metadata": {},
     "output_type": "execute_result"
    }
   ],
   "source": [
    "suggestions\n",
    "type(suggestions)\n",
    "suggestions.shape[1]"
   ]
  },
  {
   "cell_type": "code",
   "execution_count": 93,
   "id": "6ad72f02",
   "metadata": {},
   "outputs": [
    {
     "name": "stdout",
     "output_type": "stream",
     "text": [
      "Index(['The Pistol Poets', 'Gone Tomorrow: A Bill Slider Mystery',\n",
      "       'Castle Rouge: A Novel of Suspense featuring Sherlock Holmes, Irene Adler, and Jack the Ripper',\n",
      "       'Blood Relations: A Torie O'Shea Mystery', 'Delusion: A Mystery',\n",
      "       'A Poultice for a Healer (Chronicles of Issac of Girona)',\n",
      "       'The Girl with the Long Back: A Harpur &amp; Iles Mystery',\n",
      "       'The Blood Doctor', 'A Deep Blue Farewell (Scotia MacKinnon Mysteries)',\n",
      "       'Veiled Threats'],\n",
      "      dtype='object', name='Book-Title')\n"
     ]
    }
   ],
   "source": [
    "for i in suggestions:\n",
    "    print(Pivot_data.index[i])"
   ]
  },
  {
   "cell_type": "code",
   "execution_count": 94,
   "id": "3579f14c",
   "metadata": {},
   "outputs": [
    {
     "name": "stdout",
     "output_type": "stream",
     "text": [
      "[35799 13315  5946  4747  8752  1111 33046 30780   528 40430]\n",
      "Gone Tomorrow: A Bill Slider Mystery\n"
     ]
    }
   ],
   "source": [
    "Book_List = []\n",
    "temp_df = Final_data[Final_data['Book-Title'] == 'The Pistol Poets']\n",
    "temp_df = temp_df.drop_duplicates('Book-Title')\n",
    "Book_List.extend(list(temp_df['Book-Title'].values))\n",
    "Book_List.extend(list(temp_df['Book-Author'].values))\n",
    "Book_List.extend(list(temp_df['Image-URL-L'].values))\n",
    "\n",
    "for i in suggestions:\n",
    "    print(i)\n",
    "    \n",
    "print(Pivot_data.index[13315])"
   ]
  },
  {
   "cell_type": "code",
   "execution_count": 116,
   "id": "0b2055a8",
   "metadata": {},
   "outputs": [
    {
     "name": "stdout",
     "output_type": "stream",
     "text": [
      "[35799 13315  5946  4747  8752  1111 33046 30780   528 40430]\n",
      " Highland Desire (Zebra Splendor Historical Romances)\n",
      "nnn\n"
     ]
    }
   ],
   "source": [
    "Recommend_data = []\n",
    "for i in suggestions:\n",
    "    Book_List = []\n",
    "    print(i)\n",
    "    book = Pivot_data.index[3]\n",
    "    print(bookName)\n",
    "    print('nnn')"
   ]
  },
  {
   "cell_type": "code",
   "execution_count": 159,
   "id": "34611d25",
   "metadata": {},
   "outputs": [],
   "source": [
    "def recommend_book(book_name):\n",
    "    book_id = np.where(Pivot_data.index == book_name)[0][0]\n",
    "    distance , suggestion = model.kneighbors(Pivot_data.iloc[book_id , :].values.reshape(1,-1) , n_neighbors=8)\n",
    "#    print(suggestion)\n",
    "    \n",
    "    Recommend_data = []\n",
    "    \n",
    "    for i in range(suggestion.shape[1]):\n",
    "        Book_List = []\n",
    "        bookName = Pivot_data.index[i]\n",
    "        temp_df = Books[Books['Book-Title'] == Pivot_data.index[i]]\n",
    "        Book_List.extend(list(temp_df.drop_duplicates('Book-Title')['Book-Title'].values))\n",
    "        Book_List.extend(list(temp_df.drop_duplicates('Book-Title')['Book-Author'].values))\n",
    "        Book_List.extend(list(temp_df.drop_duplicates('Book-Title')['Image-URL-L'].values))\n",
    "        Recommend_data.append(Book_List)\n",
    "        \n",
    "    return Recommend_data     "
   ]
  },
  {
   "cell_type": "code",
   "execution_count": 160,
   "id": "a9d0b78d",
   "metadata": {},
   "outputs": [
    {
     "data": {
      "text/plain": [
       "[[' Dark Justice',\n",
       "  'Jack Higgins',\n",
       "  'http://images.amazon.com/images/P/0399151788.01.LZZZZZZZ.jpg'],\n",
       " [' Final Fantasy Anthology: Official Strategy Guide (Brady Games)',\n",
       "  'David Cassady',\n",
       "  'http://images.amazon.com/images/P/1566869250.01.LZZZZZZZ.jpg'],\n",
       " [' Good Wives: Image and Reality in the Lives of Women in Northern New England, 1650-1750',\n",
       "  'Laurel Thatcher Ulrich',\n",
       "  'http://images.amazon.com/images/P/0679732578.01.LZZZZZZZ.jpg'],\n",
       " [' Highland Desire (Zebra Splendor Historical Romances)',\n",
       "  'Joyce Carlow',\n",
       "  'http://images.amazon.com/images/P/0821760580.01.LZZZZZZZ.jpg'],\n",
       " [' Murder of a Sleeping Beauty (Scumble River Mysteries (Paperback))',\n",
       "  'Denise Swanson',\n",
       "  'http://images.amazon.com/images/P/0451205480.01.LZZZZZZZ.jpg'],\n",
       " [' Nonbook Materials: The Organization of Integrated Collections',\n",
       "  'Jean Riddle Weihs',\n",
       "  'http://images.amazon.com/images/P/0888020910.01.LZZZZZZZ.jpg'],\n",
       " [' Q-Space (Star Trek The Next Generation, Book 47)',\n",
       "  'Greg Cox',\n",
       "  'http://images.amazon.com/images/P/0671019155.01.LZZZZZZZ.jpg'],\n",
       " [' This Place Has No Atmosphere (Laurel-Leaf Books)',\n",
       "  'Paula Danziger',\n",
       "  'http://images.amazon.com/images/P/0440987261.01.LZZZZZZZ.jpg']]"
      ]
     },
     "execution_count": 160,
     "metadata": {},
     "output_type": "execute_result"
    }
   ],
   "source": [
    "book_name = 'My Life on A Plate'\n",
    "recommend_book(book_name)"
   ]
  },
  {
   "cell_type": "code",
   "execution_count": 162,
   "id": "55800bb0",
   "metadata": {},
   "outputs": [],
   "source": [
    "import pickle\n",
    "pickle.dump(model , open(\"model.pkl\" , 'wb'))\n",
    "pickle.dump(Final_data , open(\"Final_data.pkl\" , 'wb'))\n",
    "pickle.dump(Pivot_data , open(\"Pivot_data.pkl\" , 'wb'))"
   ]
  },
  {
   "cell_type": "code",
   "execution_count": null,
   "id": "3791a159",
   "metadata": {},
   "outputs": [],
   "source": []
  }
 ],
 "metadata": {
  "kernelspec": {
   "display_name": "Python 3",
   "language": "python",
   "name": "python3"
  },
  "language_info": {
   "codemirror_mode": {
    "name": "ipython",
    "version": 3
   },
   "file_extension": ".py",
   "mimetype": "text/x-python",
   "name": "python",
   "nbconvert_exporter": "python",
   "pygments_lexer": "ipython3",
   "version": "3.8.8"
  }
 },
 "nbformat": 4,
 "nbformat_minor": 5
}
